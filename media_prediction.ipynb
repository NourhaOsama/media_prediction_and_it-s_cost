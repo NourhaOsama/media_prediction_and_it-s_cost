{
 "cells": [
  {
   "cell_type": "code",
   "execution_count": 6,
   "id": "2a34f0d4-f578-4584-95da-f96a06ccf846",
   "metadata": {},
   "outputs": [],
   "source": [
    "import numpy as np\n",
    "import pandas as pd \n",
    "import matplotlib.pyplot as plt\n",
    "plt.style.use('seaborn')\n"
   ]
  },
  {
   "cell_type": "code",
   "execution_count": 7,
   "id": "863bb36b-b72d-4808-8bbc-ec64a2249cf9",
   "metadata": {},
   "outputs": [],
   "source": [
    "data = pd.read_csv('media prediction and its cost.csv')"
   ]
  },
  {
   "cell_type": "markdown",
   "id": "2be77add-e555-4726-8e91-20b8ff83d43e",
   "metadata": {},
   "source": [
    "# show my data "
   ]
  },
  {
   "cell_type": "code",
   "execution_count": 8,
   "id": "76e91876-37c6-4f03-a0c4-2ac079acacc7",
   "metadata": {},
   "outputs": [
    {
     "data": {
      "text/html": [
       "<div>\n",
       "<style scoped>\n",
       "    .dataframe tbody tr th:only-of-type {\n",
       "        vertical-align: middle;\n",
       "    }\n",
       "\n",
       "    .dataframe tbody tr th {\n",
       "        vertical-align: top;\n",
       "    }\n",
       "\n",
       "    .dataframe thead th {\n",
       "        text-align: right;\n",
       "    }\n",
       "</style>\n",
       "<table border=\"1\" class=\"dataframe\">\n",
       "  <thead>\n",
       "    <tr style=\"text-align: right;\">\n",
       "      <th></th>\n",
       "      <th>food_category</th>\n",
       "      <th>food_department</th>\n",
       "      <th>food_family</th>\n",
       "      <th>store_sales(in millions)</th>\n",
       "      <th>store_cost(in millions)</th>\n",
       "      <th>unit_sales(in millions)</th>\n",
       "      <th>promotion_name</th>\n",
       "      <th>sales_country</th>\n",
       "      <th>marital_status</th>\n",
       "      <th>gender</th>\n",
       "      <th>...</th>\n",
       "      <th>grocery_sqft</th>\n",
       "      <th>frozen_sqft</th>\n",
       "      <th>meat_sqft</th>\n",
       "      <th>coffee_bar</th>\n",
       "      <th>video_store</th>\n",
       "      <th>salad_bar</th>\n",
       "      <th>prepared_food</th>\n",
       "      <th>florist</th>\n",
       "      <th>media_type</th>\n",
       "      <th>cost</th>\n",
       "    </tr>\n",
       "  </thead>\n",
       "  <tbody>\n",
       "    <tr>\n",
       "      <th>0</th>\n",
       "      <td>Breakfast Foods</td>\n",
       "      <td>Frozen Foods</td>\n",
       "      <td>Food</td>\n",
       "      <td>7.36</td>\n",
       "      <td>2.7232</td>\n",
       "      <td>4.0</td>\n",
       "      <td>Bag Stuffers</td>\n",
       "      <td>USA</td>\n",
       "      <td>M</td>\n",
       "      <td>F</td>\n",
       "      <td>...</td>\n",
       "      <td>18670.0</td>\n",
       "      <td>5415.0</td>\n",
       "      <td>3610.0</td>\n",
       "      <td>1.0</td>\n",
       "      <td>1.0</td>\n",
       "      <td>1.0</td>\n",
       "      <td>1.0</td>\n",
       "      <td>1.0</td>\n",
       "      <td>Daily Paper, Radio</td>\n",
       "      <td>126.62</td>\n",
       "    </tr>\n",
       "    <tr>\n",
       "      <th>1</th>\n",
       "      <td>Breakfast Foods</td>\n",
       "      <td>Frozen Foods</td>\n",
       "      <td>Food</td>\n",
       "      <td>5.52</td>\n",
       "      <td>2.5944</td>\n",
       "      <td>3.0</td>\n",
       "      <td>Cash Register Lottery</td>\n",
       "      <td>USA</td>\n",
       "      <td>M</td>\n",
       "      <td>M</td>\n",
       "      <td>...</td>\n",
       "      <td>18670.0</td>\n",
       "      <td>5415.0</td>\n",
       "      <td>3610.0</td>\n",
       "      <td>1.0</td>\n",
       "      <td>1.0</td>\n",
       "      <td>1.0</td>\n",
       "      <td>1.0</td>\n",
       "      <td>1.0</td>\n",
       "      <td>Daily Paper, Radio</td>\n",
       "      <td>59.86</td>\n",
       "    </tr>\n",
       "    <tr>\n",
       "      <th>2</th>\n",
       "      <td>Breakfast Foods</td>\n",
       "      <td>Frozen Foods</td>\n",
       "      <td>Food</td>\n",
       "      <td>3.68</td>\n",
       "      <td>1.3616</td>\n",
       "      <td>2.0</td>\n",
       "      <td>High Roller Savings</td>\n",
       "      <td>USA</td>\n",
       "      <td>S</td>\n",
       "      <td>F</td>\n",
       "      <td>...</td>\n",
       "      <td>18670.0</td>\n",
       "      <td>5415.0</td>\n",
       "      <td>3610.0</td>\n",
       "      <td>1.0</td>\n",
       "      <td>1.0</td>\n",
       "      <td>1.0</td>\n",
       "      <td>1.0</td>\n",
       "      <td>1.0</td>\n",
       "      <td>Daily Paper, Radio</td>\n",
       "      <td>84.16</td>\n",
       "    </tr>\n",
       "    <tr>\n",
       "      <th>3</th>\n",
       "      <td>Breakfast Foods</td>\n",
       "      <td>Frozen Foods</td>\n",
       "      <td>Food</td>\n",
       "      <td>3.68</td>\n",
       "      <td>1.1776</td>\n",
       "      <td>2.0</td>\n",
       "      <td>Cash Register Lottery</td>\n",
       "      <td>USA</td>\n",
       "      <td>M</td>\n",
       "      <td>F</td>\n",
       "      <td>...</td>\n",
       "      <td>18670.0</td>\n",
       "      <td>5415.0</td>\n",
       "      <td>3610.0</td>\n",
       "      <td>1.0</td>\n",
       "      <td>1.0</td>\n",
       "      <td>1.0</td>\n",
       "      <td>1.0</td>\n",
       "      <td>1.0</td>\n",
       "      <td>In-Store Coupon</td>\n",
       "      <td>95.78</td>\n",
       "    </tr>\n",
       "    <tr>\n",
       "      <th>4</th>\n",
       "      <td>Breakfast Foods</td>\n",
       "      <td>Frozen Foods</td>\n",
       "      <td>Food</td>\n",
       "      <td>4.08</td>\n",
       "      <td>1.4280</td>\n",
       "      <td>3.0</td>\n",
       "      <td>Double Down Sale</td>\n",
       "      <td>USA</td>\n",
       "      <td>M</td>\n",
       "      <td>M</td>\n",
       "      <td>...</td>\n",
       "      <td>18670.0</td>\n",
       "      <td>5415.0</td>\n",
       "      <td>3610.0</td>\n",
       "      <td>1.0</td>\n",
       "      <td>1.0</td>\n",
       "      <td>1.0</td>\n",
       "      <td>1.0</td>\n",
       "      <td>1.0</td>\n",
       "      <td>Radio</td>\n",
       "      <td>50.79</td>\n",
       "    </tr>\n",
       "    <tr>\n",
       "      <th>...</th>\n",
       "      <td>...</td>\n",
       "      <td>...</td>\n",
       "      <td>...</td>\n",
       "      <td>...</td>\n",
       "      <td>...</td>\n",
       "      <td>...</td>\n",
       "      <td>...</td>\n",
       "      <td>...</td>\n",
       "      <td>...</td>\n",
       "      <td>...</td>\n",
       "      <td>...</td>\n",
       "      <td>...</td>\n",
       "      <td>...</td>\n",
       "      <td>...</td>\n",
       "      <td>...</td>\n",
       "      <td>...</td>\n",
       "      <td>...</td>\n",
       "      <td>...</td>\n",
       "      <td>...</td>\n",
       "      <td>...</td>\n",
       "      <td>...</td>\n",
       "    </tr>\n",
       "    <tr>\n",
       "      <th>60423</th>\n",
       "      <td>Specialty</td>\n",
       "      <td>Carousel</td>\n",
       "      <td>Non-Consumable</td>\n",
       "      <td>2.76</td>\n",
       "      <td>1.3248</td>\n",
       "      <td>1.0</td>\n",
       "      <td>You Save Days</td>\n",
       "      <td>USA</td>\n",
       "      <td>M</td>\n",
       "      <td>F</td>\n",
       "      <td>...</td>\n",
       "      <td>15321.0</td>\n",
       "      <td>4294.0</td>\n",
       "      <td>2863.0</td>\n",
       "      <td>1.0</td>\n",
       "      <td>0.0</td>\n",
       "      <td>0.0</td>\n",
       "      <td>0.0</td>\n",
       "      <td>0.0</td>\n",
       "      <td>In-Store Coupon</td>\n",
       "      <td>95.25</td>\n",
       "    </tr>\n",
       "    <tr>\n",
       "      <th>60424</th>\n",
       "      <td>Specialty</td>\n",
       "      <td>Carousel</td>\n",
       "      <td>Non-Consumable</td>\n",
       "      <td>1.60</td>\n",
       "      <td>0.4960</td>\n",
       "      <td>1.0</td>\n",
       "      <td>Price Cutters</td>\n",
       "      <td>USA</td>\n",
       "      <td>S</td>\n",
       "      <td>F</td>\n",
       "      <td>...</td>\n",
       "      <td>15321.0</td>\n",
       "      <td>4294.0</td>\n",
       "      <td>2863.0</td>\n",
       "      <td>1.0</td>\n",
       "      <td>0.0</td>\n",
       "      <td>0.0</td>\n",
       "      <td>0.0</td>\n",
       "      <td>0.0</td>\n",
       "      <td>Sunday Paper</td>\n",
       "      <td>69.42</td>\n",
       "    </tr>\n",
       "    <tr>\n",
       "      <th>60425</th>\n",
       "      <td>Specialty</td>\n",
       "      <td>Carousel</td>\n",
       "      <td>Non-Consumable</td>\n",
       "      <td>5.52</td>\n",
       "      <td>2.5392</td>\n",
       "      <td>2.0</td>\n",
       "      <td>Weekend Markdown</td>\n",
       "      <td>USA</td>\n",
       "      <td>M</td>\n",
       "      <td>M</td>\n",
       "      <td>...</td>\n",
       "      <td>15321.0</td>\n",
       "      <td>4294.0</td>\n",
       "      <td>2863.0</td>\n",
       "      <td>1.0</td>\n",
       "      <td>0.0</td>\n",
       "      <td>0.0</td>\n",
       "      <td>0.0</td>\n",
       "      <td>0.0</td>\n",
       "      <td>Sunday Paper, Radio, TV</td>\n",
       "      <td>67.51</td>\n",
       "    </tr>\n",
       "    <tr>\n",
       "      <th>60426</th>\n",
       "      <td>Specialty</td>\n",
       "      <td>Carousel</td>\n",
       "      <td>Non-Consumable</td>\n",
       "      <td>8.28</td>\n",
       "      <td>2.5668</td>\n",
       "      <td>3.0</td>\n",
       "      <td>Sales Days</td>\n",
       "      <td>Canada</td>\n",
       "      <td>S</td>\n",
       "      <td>M</td>\n",
       "      <td>...</td>\n",
       "      <td>27463.0</td>\n",
       "      <td>4193.0</td>\n",
       "      <td>2795.0</td>\n",
       "      <td>1.0</td>\n",
       "      <td>0.0</td>\n",
       "      <td>0.0</td>\n",
       "      <td>0.0</td>\n",
       "      <td>1.0</td>\n",
       "      <td>Sunday Paper</td>\n",
       "      <td>132.88</td>\n",
       "    </tr>\n",
       "    <tr>\n",
       "      <th>60427</th>\n",
       "      <td>Specialty</td>\n",
       "      <td>Carousel</td>\n",
       "      <td>Non-Consumable</td>\n",
       "      <td>9.20</td>\n",
       "      <td>4.2320</td>\n",
       "      <td>4.0</td>\n",
       "      <td>Super Duper Savers</td>\n",
       "      <td>Canada</td>\n",
       "      <td>S</td>\n",
       "      <td>F</td>\n",
       "      <td>...</td>\n",
       "      <td>27463.0</td>\n",
       "      <td>4193.0</td>\n",
       "      <td>2795.0</td>\n",
       "      <td>1.0</td>\n",
       "      <td>0.0</td>\n",
       "      <td>0.0</td>\n",
       "      <td>0.0</td>\n",
       "      <td>1.0</td>\n",
       "      <td>Daily Paper, Radio</td>\n",
       "      <td>87.76</td>\n",
       "    </tr>\n",
       "  </tbody>\n",
       "</table>\n",
       "<p>60428 rows × 40 columns</p>\n",
       "</div>"
      ],
      "text/plain": [
       "         food_category food_department     food_family  \\\n",
       "0      Breakfast Foods    Frozen Foods            Food   \n",
       "1      Breakfast Foods    Frozen Foods            Food   \n",
       "2      Breakfast Foods    Frozen Foods            Food   \n",
       "3      Breakfast Foods    Frozen Foods            Food   \n",
       "4      Breakfast Foods    Frozen Foods            Food   \n",
       "...                ...             ...             ...   \n",
       "60423        Specialty        Carousel  Non-Consumable   \n",
       "60424        Specialty        Carousel  Non-Consumable   \n",
       "60425        Specialty        Carousel  Non-Consumable   \n",
       "60426        Specialty        Carousel  Non-Consumable   \n",
       "60427        Specialty        Carousel  Non-Consumable   \n",
       "\n",
       "       store_sales(in millions)  store_cost(in millions)  \\\n",
       "0                          7.36                   2.7232   \n",
       "1                          5.52                   2.5944   \n",
       "2                          3.68                   1.3616   \n",
       "3                          3.68                   1.1776   \n",
       "4                          4.08                   1.4280   \n",
       "...                         ...                      ...   \n",
       "60423                      2.76                   1.3248   \n",
       "60424                      1.60                   0.4960   \n",
       "60425                      5.52                   2.5392   \n",
       "60426                      8.28                   2.5668   \n",
       "60427                      9.20                   4.2320   \n",
       "\n",
       "       unit_sales(in millions)         promotion_name sales_country  \\\n",
       "0                          4.0           Bag Stuffers           USA   \n",
       "1                          3.0  Cash Register Lottery           USA   \n",
       "2                          2.0    High Roller Savings           USA   \n",
       "3                          2.0  Cash Register Lottery           USA   \n",
       "4                          3.0       Double Down Sale           USA   \n",
       "...                        ...                    ...           ...   \n",
       "60423                      1.0          You Save Days           USA   \n",
       "60424                      1.0          Price Cutters           USA   \n",
       "60425                      2.0       Weekend Markdown           USA   \n",
       "60426                      3.0             Sales Days        Canada   \n",
       "60427                      4.0     Super Duper Savers        Canada   \n",
       "\n",
       "      marital_status gender  ...  grocery_sqft frozen_sqft meat_sqft  \\\n",
       "0                  M      F  ...       18670.0      5415.0    3610.0   \n",
       "1                  M      M  ...       18670.0      5415.0    3610.0   \n",
       "2                  S      F  ...       18670.0      5415.0    3610.0   \n",
       "3                  M      F  ...       18670.0      5415.0    3610.0   \n",
       "4                  M      M  ...       18670.0      5415.0    3610.0   \n",
       "...              ...    ...  ...           ...         ...       ...   \n",
       "60423              M      F  ...       15321.0      4294.0    2863.0   \n",
       "60424              S      F  ...       15321.0      4294.0    2863.0   \n",
       "60425              M      M  ...       15321.0      4294.0    2863.0   \n",
       "60426              S      M  ...       27463.0      4193.0    2795.0   \n",
       "60427              S      F  ...       27463.0      4193.0    2795.0   \n",
       "\n",
       "      coffee_bar video_store  salad_bar prepared_food  florist  \\\n",
       "0            1.0         1.0        1.0           1.0      1.0   \n",
       "1            1.0         1.0        1.0           1.0      1.0   \n",
       "2            1.0         1.0        1.0           1.0      1.0   \n",
       "3            1.0         1.0        1.0           1.0      1.0   \n",
       "4            1.0         1.0        1.0           1.0      1.0   \n",
       "...          ...         ...        ...           ...      ...   \n",
       "60423        1.0         0.0        0.0           0.0      0.0   \n",
       "60424        1.0         0.0        0.0           0.0      0.0   \n",
       "60425        1.0         0.0        0.0           0.0      0.0   \n",
       "60426        1.0         0.0        0.0           0.0      1.0   \n",
       "60427        1.0         0.0        0.0           0.0      1.0   \n",
       "\n",
       "                    media_type    cost  \n",
       "0           Daily Paper, Radio  126.62  \n",
       "1           Daily Paper, Radio   59.86  \n",
       "2           Daily Paper, Radio   84.16  \n",
       "3              In-Store Coupon   95.78  \n",
       "4                        Radio   50.79  \n",
       "...                        ...     ...  \n",
       "60423          In-Store Coupon   95.25  \n",
       "60424             Sunday Paper   69.42  \n",
       "60425  Sunday Paper, Radio, TV   67.51  \n",
       "60426             Sunday Paper  132.88  \n",
       "60427       Daily Paper, Radio   87.76  \n",
       "\n",
       "[60428 rows x 40 columns]"
      ]
     },
     "execution_count": 8,
     "metadata": {},
     "output_type": "execute_result"
    }
   ],
   "source": [
    "data"
   ]
  },
  {
   "cell_type": "markdown",
   "id": "0e568008-94bc-473b-b061-29be53395ac4",
   "metadata": {},
   "source": [
    "# the shape "
   ]
  },
  {
   "cell_type": "code",
   "execution_count": 11,
   "id": "468499cc-c623-4924-964e-51af66a3493a",
   "metadata": {},
   "outputs": [
    {
     "data": {
      "text/plain": [
       "(60428, 40)"
      ]
     },
     "execution_count": 11,
     "metadata": {},
     "output_type": "execute_result"
    }
   ],
   "source": [
    "data.shape"
   ]
  },
  {
   "cell_type": "markdown",
   "id": "df53f871-80d1-40b3-acac-a4e3109ba6d1",
   "metadata": {},
   "source": [
    "# what about my data "
   ]
  },
  {
   "cell_type": "code",
   "execution_count": 12,
   "id": "031d2096-7831-4f73-8cb4-e0eeea616c40",
   "metadata": {},
   "outputs": [
    {
     "name": "stdout",
     "output_type": "stream",
     "text": [
      "<class 'pandas.core.frame.DataFrame'>\n",
      "RangeIndex: 60428 entries, 0 to 60427\n",
      "Data columns (total 40 columns):\n",
      " #   Column                      Non-Null Count  Dtype  \n",
      "---  ------                      --------------  -----  \n",
      " 0   food_category               60428 non-null  object \n",
      " 1   food_department             60428 non-null  object \n",
      " 2   food_family                 60428 non-null  object \n",
      " 3   store_sales(in millions)    60428 non-null  float64\n",
      " 4   store_cost(in millions)     60428 non-null  float64\n",
      " 5   unit_sales(in millions)     60428 non-null  float64\n",
      " 6   promotion_name              60428 non-null  object \n",
      " 7   sales_country               60428 non-null  object \n",
      " 8   marital_status              60428 non-null  object \n",
      " 9   gender                      60428 non-null  object \n",
      " 10  total_children              60428 non-null  float64\n",
      " 11  education                   60428 non-null  object \n",
      " 12  member_card                 60428 non-null  object \n",
      " 13  occupation                  60428 non-null  object \n",
      " 14  houseowner                  60428 non-null  object \n",
      " 15  avg_cars_at home(approx)    60428 non-null  float64\n",
      " 16  avg. yearly_income          60428 non-null  object \n",
      " 17  num_children_at_home        60428 non-null  float64\n",
      " 18  avg_cars_at home(approx).1  60428 non-null  float64\n",
      " 19  brand_name                  60428 non-null  object \n",
      " 20  SRP                         60428 non-null  float64\n",
      " 21  gross_weight                60428 non-null  float64\n",
      " 22  net_weight                  60428 non-null  float64\n",
      " 23  recyclable_package          60428 non-null  float64\n",
      " 24  low_fat                     60428 non-null  float64\n",
      " 25  units_per_case              60428 non-null  float64\n",
      " 26  store_type                  60428 non-null  object \n",
      " 27  store_city                  60428 non-null  object \n",
      " 28  store_state                 60428 non-null  object \n",
      " 29  store_sqft                  60428 non-null  float64\n",
      " 30  grocery_sqft                60428 non-null  float64\n",
      " 31  frozen_sqft                 60428 non-null  float64\n",
      " 32  meat_sqft                   60428 non-null  float64\n",
      " 33  coffee_bar                  60428 non-null  float64\n",
      " 34  video_store                 60428 non-null  float64\n",
      " 35  salad_bar                   60428 non-null  float64\n",
      " 36  prepared_food               60428 non-null  float64\n",
      " 37  florist                     60428 non-null  float64\n",
      " 38  media_type                  60428 non-null  object \n",
      " 39  cost                        60428 non-null  float64\n",
      "dtypes: float64(23), object(17)\n",
      "memory usage: 18.4+ MB\n"
     ]
    }
   ],
   "source": [
    "data.info()"
   ]
  },
  {
   "cell_type": "markdown",
   "id": "6fd6d0c3-c71c-4683-ac27-b2898f5f89c9",
   "metadata": {},
   "source": [
    "# show if we have any null value"
   ]
  },
  {
   "cell_type": "code",
   "execution_count": 14,
   "id": "0033d642-dae7-4113-b615-93b9b23d064b",
   "metadata": {},
   "outputs": [
    {
     "data": {
      "text/plain": [
       "food_category                 0\n",
       "food_department               0\n",
       "food_family                   0\n",
       "store_sales(in millions)      0\n",
       "store_cost(in millions)       0\n",
       "unit_sales(in millions)       0\n",
       "promotion_name                0\n",
       "sales_country                 0\n",
       "marital_status                0\n",
       "gender                        0\n",
       "total_children                0\n",
       "education                     0\n",
       "member_card                   0\n",
       "occupation                    0\n",
       "houseowner                    0\n",
       "avg_cars_at home(approx)      0\n",
       "avg. yearly_income            0\n",
       "num_children_at_home          0\n",
       "avg_cars_at home(approx).1    0\n",
       "brand_name                    0\n",
       "SRP                           0\n",
       "gross_weight                  0\n",
       "net_weight                    0\n",
       "recyclable_package            0\n",
       "low_fat                       0\n",
       "units_per_case                0\n",
       "store_type                    0\n",
       "store_city                    0\n",
       "store_state                   0\n",
       "store_sqft                    0\n",
       "grocery_sqft                  0\n",
       "frozen_sqft                   0\n",
       "meat_sqft                     0\n",
       "coffee_bar                    0\n",
       "video_store                   0\n",
       "salad_bar                     0\n",
       "prepared_food                 0\n",
       "florist                       0\n",
       "media_type                    0\n",
       "cost                          0\n",
       "dtype: int64"
      ]
     },
     "execution_count": 14,
     "metadata": {},
     "output_type": "execute_result"
    }
   ],
   "source": [
    "data.isnull().sum()"
   ]
  },
  {
   "cell_type": "markdown",
   "id": "67df3f55-db6c-41d4-b7e6-a267e45ffe6c",
   "metadata": {},
   "source": [
    "# describe my data "
   ]
  },
  {
   "cell_type": "code",
   "execution_count": 15,
   "id": "7807f688-873b-4f6a-bae3-093e9e5cdafc",
   "metadata": {},
   "outputs": [
    {
     "data": {
      "text/html": [
       "<div>\n",
       "<style scoped>\n",
       "    .dataframe tbody tr th:only-of-type {\n",
       "        vertical-align: middle;\n",
       "    }\n",
       "\n",
       "    .dataframe tbody tr th {\n",
       "        vertical-align: top;\n",
       "    }\n",
       "\n",
       "    .dataframe thead th {\n",
       "        text-align: right;\n",
       "    }\n",
       "</style>\n",
       "<table border=\"1\" class=\"dataframe\">\n",
       "  <thead>\n",
       "    <tr style=\"text-align: right;\">\n",
       "      <th></th>\n",
       "      <th>store_sales(in millions)</th>\n",
       "      <th>store_cost(in millions)</th>\n",
       "      <th>unit_sales(in millions)</th>\n",
       "      <th>total_children</th>\n",
       "      <th>avg_cars_at home(approx)</th>\n",
       "      <th>num_children_at_home</th>\n",
       "      <th>avg_cars_at home(approx).1</th>\n",
       "      <th>SRP</th>\n",
       "      <th>gross_weight</th>\n",
       "      <th>net_weight</th>\n",
       "      <th>...</th>\n",
       "      <th>store_sqft</th>\n",
       "      <th>grocery_sqft</th>\n",
       "      <th>frozen_sqft</th>\n",
       "      <th>meat_sqft</th>\n",
       "      <th>coffee_bar</th>\n",
       "      <th>video_store</th>\n",
       "      <th>salad_bar</th>\n",
       "      <th>prepared_food</th>\n",
       "      <th>florist</th>\n",
       "      <th>cost</th>\n",
       "    </tr>\n",
       "  </thead>\n",
       "  <tbody>\n",
       "    <tr>\n",
       "      <th>count</th>\n",
       "      <td>60428.000000</td>\n",
       "      <td>60428.000000</td>\n",
       "      <td>60428.000000</td>\n",
       "      <td>60428.000000</td>\n",
       "      <td>60428.000000</td>\n",
       "      <td>60428.000000</td>\n",
       "      <td>60428.000000</td>\n",
       "      <td>60428.000000</td>\n",
       "      <td>60428.000000</td>\n",
       "      <td>60428.000000</td>\n",
       "      <td>...</td>\n",
       "      <td>60428.000000</td>\n",
       "      <td>60428.000000</td>\n",
       "      <td>60428.000000</td>\n",
       "      <td>60428.000000</td>\n",
       "      <td>60428.000000</td>\n",
       "      <td>60428.000000</td>\n",
       "      <td>60428.000000</td>\n",
       "      <td>60428.000000</td>\n",
       "      <td>60428.000000</td>\n",
       "      <td>60428.000000</td>\n",
       "    </tr>\n",
       "    <tr>\n",
       "      <th>mean</th>\n",
       "      <td>6.541031</td>\n",
       "      <td>2.619460</td>\n",
       "      <td>3.093169</td>\n",
       "      <td>2.533875</td>\n",
       "      <td>2.200271</td>\n",
       "      <td>0.829351</td>\n",
       "      <td>2.200271</td>\n",
       "      <td>2.115258</td>\n",
       "      <td>13.806433</td>\n",
       "      <td>11.796289</td>\n",
       "      <td>...</td>\n",
       "      <td>27988.477494</td>\n",
       "      <td>19133.799696</td>\n",
       "      <td>5312.852552</td>\n",
       "      <td>3541.846280</td>\n",
       "      <td>0.612646</td>\n",
       "      <td>0.354157</td>\n",
       "      <td>0.587956</td>\n",
       "      <td>0.587956</td>\n",
       "      <td>0.562603</td>\n",
       "      <td>99.262366</td>\n",
       "    </tr>\n",
       "    <tr>\n",
       "      <th>std</th>\n",
       "      <td>3.463047</td>\n",
       "      <td>1.453009</td>\n",
       "      <td>0.827677</td>\n",
       "      <td>1.490165</td>\n",
       "      <td>1.109644</td>\n",
       "      <td>1.303424</td>\n",
       "      <td>1.109644</td>\n",
       "      <td>0.932829</td>\n",
       "      <td>4.622693</td>\n",
       "      <td>4.682986</td>\n",
       "      <td>...</td>\n",
       "      <td>5701.022090</td>\n",
       "      <td>3987.395735</td>\n",
       "      <td>1575.907263</td>\n",
       "      <td>1050.471635</td>\n",
       "      <td>0.487150</td>\n",
       "      <td>0.478261</td>\n",
       "      <td>0.492207</td>\n",
       "      <td>0.492207</td>\n",
       "      <td>0.496069</td>\n",
       "      <td>30.011257</td>\n",
       "    </tr>\n",
       "    <tr>\n",
       "      <th>min</th>\n",
       "      <td>0.510000</td>\n",
       "      <td>0.163200</td>\n",
       "      <td>1.000000</td>\n",
       "      <td>0.000000</td>\n",
       "      <td>0.000000</td>\n",
       "      <td>0.000000</td>\n",
       "      <td>0.000000</td>\n",
       "      <td>0.500000</td>\n",
       "      <td>6.000000</td>\n",
       "      <td>3.050000</td>\n",
       "      <td>...</td>\n",
       "      <td>20319.000000</td>\n",
       "      <td>13305.000000</td>\n",
       "      <td>2452.000000</td>\n",
       "      <td>1635.000000</td>\n",
       "      <td>0.000000</td>\n",
       "      <td>0.000000</td>\n",
       "      <td>0.000000</td>\n",
       "      <td>0.000000</td>\n",
       "      <td>0.000000</td>\n",
       "      <td>50.790000</td>\n",
       "    </tr>\n",
       "    <tr>\n",
       "      <th>25%</th>\n",
       "      <td>3.810000</td>\n",
       "      <td>1.500000</td>\n",
       "      <td>3.000000</td>\n",
       "      <td>1.000000</td>\n",
       "      <td>1.000000</td>\n",
       "      <td>0.000000</td>\n",
       "      <td>1.000000</td>\n",
       "      <td>1.410000</td>\n",
       "      <td>9.700000</td>\n",
       "      <td>7.710000</td>\n",
       "      <td>...</td>\n",
       "      <td>23593.000000</td>\n",
       "      <td>16232.000000</td>\n",
       "      <td>4746.000000</td>\n",
       "      <td>3164.000000</td>\n",
       "      <td>0.000000</td>\n",
       "      <td>0.000000</td>\n",
       "      <td>0.000000</td>\n",
       "      <td>0.000000</td>\n",
       "      <td>0.000000</td>\n",
       "      <td>69.650000</td>\n",
       "    </tr>\n",
       "    <tr>\n",
       "      <th>50%</th>\n",
       "      <td>5.940000</td>\n",
       "      <td>2.385600</td>\n",
       "      <td>3.000000</td>\n",
       "      <td>3.000000</td>\n",
       "      <td>2.000000</td>\n",
       "      <td>0.000000</td>\n",
       "      <td>2.000000</td>\n",
       "      <td>2.130000</td>\n",
       "      <td>13.600000</td>\n",
       "      <td>11.600000</td>\n",
       "      <td>...</td>\n",
       "      <td>27694.000000</td>\n",
       "      <td>18670.000000</td>\n",
       "      <td>5062.000000</td>\n",
       "      <td>3375.000000</td>\n",
       "      <td>1.000000</td>\n",
       "      <td>0.000000</td>\n",
       "      <td>1.000000</td>\n",
       "      <td>1.000000</td>\n",
       "      <td>1.000000</td>\n",
       "      <td>98.520000</td>\n",
       "    </tr>\n",
       "    <tr>\n",
       "      <th>75%</th>\n",
       "      <td>8.670000</td>\n",
       "      <td>3.484025</td>\n",
       "      <td>4.000000</td>\n",
       "      <td>4.000000</td>\n",
       "      <td>3.000000</td>\n",
       "      <td>1.000000</td>\n",
       "      <td>3.000000</td>\n",
       "      <td>2.790000</td>\n",
       "      <td>17.700000</td>\n",
       "      <td>16.000000</td>\n",
       "      <td>...</td>\n",
       "      <td>30797.000000</td>\n",
       "      <td>22123.000000</td>\n",
       "      <td>5751.000000</td>\n",
       "      <td>3834.000000</td>\n",
       "      <td>1.000000</td>\n",
       "      <td>1.000000</td>\n",
       "      <td>1.000000</td>\n",
       "      <td>1.000000</td>\n",
       "      <td>1.000000</td>\n",
       "      <td>126.620000</td>\n",
       "    </tr>\n",
       "    <tr>\n",
       "      <th>max</th>\n",
       "      <td>22.920000</td>\n",
       "      <td>9.726500</td>\n",
       "      <td>6.000000</td>\n",
       "      <td>5.000000</td>\n",
       "      <td>4.000000</td>\n",
       "      <td>5.000000</td>\n",
       "      <td>4.000000</td>\n",
       "      <td>3.980000</td>\n",
       "      <td>21.900000</td>\n",
       "      <td>20.800000</td>\n",
       "      <td>...</td>\n",
       "      <td>39696.000000</td>\n",
       "      <td>30351.000000</td>\n",
       "      <td>9184.000000</td>\n",
       "      <td>6122.000000</td>\n",
       "      <td>1.000000</td>\n",
       "      <td>1.000000</td>\n",
       "      <td>1.000000</td>\n",
       "      <td>1.000000</td>\n",
       "      <td>1.000000</td>\n",
       "      <td>149.750000</td>\n",
       "    </tr>\n",
       "  </tbody>\n",
       "</table>\n",
       "<p>8 rows × 23 columns</p>\n",
       "</div>"
      ],
      "text/plain": [
       "       store_sales(in millions)  store_cost(in millions)  \\\n",
       "count              60428.000000             60428.000000   \n",
       "mean                   6.541031                 2.619460   \n",
       "std                    3.463047                 1.453009   \n",
       "min                    0.510000                 0.163200   \n",
       "25%                    3.810000                 1.500000   \n",
       "50%                    5.940000                 2.385600   \n",
       "75%                    8.670000                 3.484025   \n",
       "max                   22.920000                 9.726500   \n",
       "\n",
       "       unit_sales(in millions)  total_children  avg_cars_at home(approx)  \\\n",
       "count             60428.000000    60428.000000              60428.000000   \n",
       "mean                  3.093169        2.533875                  2.200271   \n",
       "std                   0.827677        1.490165                  1.109644   \n",
       "min                   1.000000        0.000000                  0.000000   \n",
       "25%                   3.000000        1.000000                  1.000000   \n",
       "50%                   3.000000        3.000000                  2.000000   \n",
       "75%                   4.000000        4.000000                  3.000000   \n",
       "max                   6.000000        5.000000                  4.000000   \n",
       "\n",
       "       num_children_at_home  avg_cars_at home(approx).1           SRP  \\\n",
       "count          60428.000000                60428.000000  60428.000000   \n",
       "mean               0.829351                    2.200271      2.115258   \n",
       "std                1.303424                    1.109644      0.932829   \n",
       "min                0.000000                    0.000000      0.500000   \n",
       "25%                0.000000                    1.000000      1.410000   \n",
       "50%                0.000000                    2.000000      2.130000   \n",
       "75%                1.000000                    3.000000      2.790000   \n",
       "max                5.000000                    4.000000      3.980000   \n",
       "\n",
       "       gross_weight    net_weight  ...    store_sqft  grocery_sqft  \\\n",
       "count  60428.000000  60428.000000  ...  60428.000000  60428.000000   \n",
       "mean      13.806433     11.796289  ...  27988.477494  19133.799696   \n",
       "std        4.622693      4.682986  ...   5701.022090   3987.395735   \n",
       "min        6.000000      3.050000  ...  20319.000000  13305.000000   \n",
       "25%        9.700000      7.710000  ...  23593.000000  16232.000000   \n",
       "50%       13.600000     11.600000  ...  27694.000000  18670.000000   \n",
       "75%       17.700000     16.000000  ...  30797.000000  22123.000000   \n",
       "max       21.900000     20.800000  ...  39696.000000  30351.000000   \n",
       "\n",
       "        frozen_sqft     meat_sqft    coffee_bar   video_store     salad_bar  \\\n",
       "count  60428.000000  60428.000000  60428.000000  60428.000000  60428.000000   \n",
       "mean    5312.852552   3541.846280      0.612646      0.354157      0.587956   \n",
       "std     1575.907263   1050.471635      0.487150      0.478261      0.492207   \n",
       "min     2452.000000   1635.000000      0.000000      0.000000      0.000000   \n",
       "25%     4746.000000   3164.000000      0.000000      0.000000      0.000000   \n",
       "50%     5062.000000   3375.000000      1.000000      0.000000      1.000000   \n",
       "75%     5751.000000   3834.000000      1.000000      1.000000      1.000000   \n",
       "max     9184.000000   6122.000000      1.000000      1.000000      1.000000   \n",
       "\n",
       "       prepared_food       florist          cost  \n",
       "count   60428.000000  60428.000000  60428.000000  \n",
       "mean        0.587956      0.562603     99.262366  \n",
       "std         0.492207      0.496069     30.011257  \n",
       "min         0.000000      0.000000     50.790000  \n",
       "25%         0.000000      0.000000     69.650000  \n",
       "50%         1.000000      1.000000     98.520000  \n",
       "75%         1.000000      1.000000    126.620000  \n",
       "max         1.000000      1.000000    149.750000  \n",
       "\n",
       "[8 rows x 23 columns]"
      ]
     },
     "execution_count": 15,
     "metadata": {},
     "output_type": "execute_result"
    }
   ],
   "source": [
    "data.describe()"
   ]
  },
  {
   "cell_type": "markdown",
   "id": "815f86ea-8c9e-4294-b348-d127c5fbd1de",
   "metadata": {},
   "source": [
    "# from my describtion we compare between the value of mean and std for each column\n",
    "# and we fined that there are stability between them "
   ]
  },
  {
   "cell_type": "code",
   "execution_count": null,
   "id": "3041cf66-6570-470d-bf8d-0e6d2638f0ae",
   "metadata": {},
   "outputs": [],
   "source": []
  },
  {
   "cell_type": "markdown",
   "id": "cf6fdbb2-6396-42a0-a6eb-e78ccd2eac3d",
   "metadata": {},
   "source": [
    "# find the total number of food category and the maximum number and minimum "
   ]
  },
  {
   "cell_type": "code",
   "execution_count": 27,
   "id": "796b4ca2-502f-4baa-99dd-d9687506e7cb",
   "metadata": {},
   "outputs": [
    {
     "data": {
      "text/plain": [
       "Vegetables              7440\n",
       "Snack Foods             6919\n",
       "Dairy                   3835\n",
       "Meat                    3107\n",
       "Fruit                   3080\n",
       "Jams and Jellies        2550\n",
       "Baking Goods            1947\n",
       "Breakfast Foods         1946\n",
       "Bread                   1797\n",
       "Canned Soup             1722\n",
       "Beer and Wine           1590\n",
       "Paper Products          1568\n",
       "Bathroom Products       1552\n",
       "Electrical              1544\n",
       "Candy                   1538\n",
       "Frozen Desserts         1446\n",
       "Specialty               1174\n",
       "Starchy Foods           1103\n",
       "Magazines                971\n",
       "Kitchen Products         969\n",
       "Eggs                     952\n",
       "Hot Beverages            891\n",
       "Hygiene                  831\n",
       "Pain Relievers           828\n",
       "Pizza                    821\n",
       "Carbonated Beverages     782\n",
       "Pure Juice Beverages     760\n",
       "Cleaning Supplies        748\n",
       "Side Dishes              601\n",
       "Frozen Entrees           595\n",
       "Drinks                   581\n",
       "Plastic Products         578\n",
       "Hardware                 575\n",
       "Cold Remedies            399\n",
       "Decongestants            396\n",
       "Canned Tuna              395\n",
       "Seafood                  375\n",
       "Canned Anchovies         213\n",
       "Canned Clams             199\n",
       "Candles                  195\n",
       "Miscellaneous            194\n",
       "Canned Oysters           189\n",
       "Canned Shrimp            182\n",
       "Packaged Vegetables      179\n",
       "Canned Sardines          171\n",
       "Name: food_category, dtype: int64"
      ]
     },
     "execution_count": 27,
     "metadata": {},
     "output_type": "execute_result"
    }
   ],
   "source": [
    "data['food_category'].value_counts()"
   ]
  },
  {
   "cell_type": "code",
   "execution_count": 28,
   "id": "4ec5e1f9-fbe4-4c90-8c51-0769e6f54316",
   "metadata": {},
   "outputs": [
    {
     "data": {
      "text/plain": [
       "7440"
      ]
     },
     "execution_count": 28,
     "metadata": {},
     "output_type": "execute_result"
    }
   ],
   "source": [
    "data['food_category'].value_counts().max()"
   ]
  },
  {
   "cell_type": "code",
   "execution_count": 29,
   "id": "07b650ca-5742-4c5c-971c-85c6036d4b7a",
   "metadata": {},
   "outputs": [
    {
     "data": {
      "text/plain": [
       "171"
      ]
     },
     "execution_count": 29,
     "metadata": {},
     "output_type": "execute_result"
    }
   ],
   "source": [
    "data['food_category'].value_counts().min()"
   ]
  },
  {
   "cell_type": "markdown",
   "id": "9d798ea6-6a59-471b-8da0-0fc3f88d7ba7",
   "metadata": {},
   "source": [
    "# the number of each store type and show a pie chart by its percentages"
   ]
  },
  {
   "cell_type": "code",
   "execution_count": 34,
   "id": "bc562883-dafa-4575-b6c2-2a025679ff41",
   "metadata": {},
   "outputs": [
    {
     "data": {
      "text/plain": [
       "Supermarket            26192\n",
       "Deluxe Supermarket     22954\n",
       "Gourmet Supermarket     6503\n",
       "Mid-Size Grocery        2846\n",
       "Small Grocery           1933\n",
       "Name: store_type, dtype: int64"
      ]
     },
     "execution_count": 34,
     "metadata": {},
     "output_type": "execute_result"
    }
   ],
   "source": [
    "d=data['store_type'].value_counts()\n",
    "d"
   ]
  },
  {
   "cell_type": "code",
   "execution_count": 37,
   "id": "301696af-580e-49b4-b052-8b8b29786b49",
   "metadata": {},
   "outputs": [
    {
     "data": {
      "image/png": "[encoded data removed]",
      "text/plain": [
       "<Figure size 576x396 with 1 Axes>"
      ]
     },
     "metadata": {},
     "output_type": "display_data"
    }
   ],
   "source": [
    "labels=['Supermarket','Deluxe Supermarket','Gourmet Supermarket','Mid-Size Grocery','Small Grocery']\n",
    "\n",
    "plt.pie(d ,labels = labels , shadow= True ,autopct=\"%1.2f%%\",wedgeprops = {'edgecolor': 'black'})\n",
    "plt.title('counts of store_type ')\n",
    "\n",
    "plt.show()"
   ]
  },
  {
   "cell_type": "code",
   "execution_count": null,
   "id": "09939f71-b6b7-4076-b515-83c4dca78377",
   "metadata": {},
   "outputs": [],
   "source": []
  },
  {
   "cell_type": "markdown",
   "id": "ab95a879-a00e-438e-8e1b-56b06ebf75d7",
   "metadata": {},
   "source": [
    "# make a comparison between food_type and make histogram "
   ]
  },
  {
   "cell_type": "code",
   "execution_count": 38,
   "id": "1739f9f7-6842-4e90-85ba-2ece05dac443",
   "metadata": {},
   "outputs": [
    {
     "data": {
      "text/plain": [
       "Food              43284\n",
       "Non-Consumable    11573\n",
       "Drink              5571\n",
       "Name: food_family, dtype: int64"
      ]
     },
     "execution_count": 38,
     "metadata": {},
     "output_type": "execute_result"
    }
   ],
   "source": [
    "f=data['food_family'].value_counts()\n",
    "f"
   ]
  },
  {
   "cell_type": "code",
   "execution_count": null,
   "id": "d6f51eb6-583d-4496-8a46-d0da3cf37496",
   "metadata": {},
   "outputs": [],
   "source": []
  },
  {
   "cell_type": "code",
   "execution_count": 40,
   "id": "4bca9675-5be2-4453-aec4-09abee7b5aba",
   "metadata": {},
   "outputs": [
    {
     "data": {
      "image/png": "[encoded data removed]",
      "text/plain": [
       "<Figure size 576x396 with 1 Axes>"
      ]
     },
     "metadata": {},
     "output_type": "display_data"
    }
   ],
   "source": [
    "plt.hist(data['food_family'],width =.5,edgecolor='black')\n",
    "plt.title('view about the food_family')\n",
    "plt.xlabel('type of food')\n",
    "plt.ylabel('Frequency of each type')\n",
    "plt.show()"
   ]
  },
  {
   "cell_type": "code",
   "execution_count": null,
   "id": "840e2a39-ddf5-4dcd-9d66-f59aff9d1256",
   "metadata": {},
   "outputs": [],
   "source": []
  },
  {
   "cell_type": "code",
   "execution_count": 43,
   "id": "8e1b4b9c-7d28-4d0f-a868-64efd44f918b",
   "metadata": {},
   "outputs": [
    {
     "data": {
      "text/plain": [
       "Bronze    33807\n",
       "Normal    13867\n",
       "Golden     7556\n",
       "Silver     5198\n",
       "Name: member_card, dtype: int64"
      ]
     },
     "execution_count": 43,
     "metadata": {},
     "output_type": "execute_result"
    }
   ],
   "source": [
    "c= data['member_card'].value_counts()\n",
    "c"
   ]
  },
  {
   "cell_type": "code",
   "execution_count": 44,
   "id": "f865f7a5-3dd9-4b51-8748-7bd78d53ddc9",
   "metadata": {},
   "outputs": [
    {
     "data": {
      "image/png": "[encoded data removed]",
      "text/plain": [
       "<Figure size 576x396 with 1 Axes>"
      ]
     },
     "metadata": {},
     "output_type": "display_data"
    }
   ],
   "source": [
    "labels=['Bronze','Normal','Golden','Silver']\n",
    "\n",
    "plt.pie(c ,labels = labels , shadow= True ,autopct=\"%1.2f%%\",wedgeprops = {'edgecolor': 'black'})\n",
    "plt.title('counts of member_card ')\n",
    "\n",
    "plt.show()"
   ]
  },
  {
   "cell_type": "code",
   "execution_count": null,
   "id": "642243bc-3701-4e86-bc6f-c295659e0ee1",
   "metadata": {},
   "outputs": [],
   "source": []
  },
  {
   "cell_type": "markdown",
   "id": "35ad83a8-5d63-4ac1-aeb0-3958eb2b6bf1",
   "metadata": {},
   "source": [
    "# make a comparison between education and make histogram"
   ]
  },
  {
   "cell_type": "code",
   "execution_count": 53,
   "id": "942eaf16-dd05-4da3-8c28-b44e4bdc2a94",
   "metadata": {},
   "outputs": [
    {
     "data": {
      "text/plain": [
       "Partial High School    18201\n",
       "High School Degree     17838\n",
       "Bachelors Degree       15994\n",
       "Partial College         5284\n",
       "Graduate Degree         3111\n",
       "Name: education, dtype: int64"
      ]
     },
     "execution_count": 53,
     "metadata": {},
     "output_type": "execute_result"
    }
   ],
   "source": [
    "e=data['education'].value_counts()\n",
    "e"
   ]
  },
  {
   "cell_type": "code",
   "execution_count": 86,
   "id": "35b64aae-300a-43ac-859e-dec5ab4dabfe",
   "metadata": {},
   "outputs": [
    {
     "data": {
      "image/png": "[encoded data removed]",
      "text/plain": [
       "<Figure size 576x396 with 1 Axes>"
      ]
     },
     "metadata": {},
     "output_type": "display_data"
    }
   ],
   "source": [
    "plt.hist(data['education'],edgecolor='black', color= '#6203fc')\n",
    "\n",
    "plt.title('view about the frquancy of education ')\n",
    "\n",
    "plt.xlabel('type of education')\n",
    "plt.ylabel('Frequency of each type')\n",
    "plt.show()"
   ]
  },
  {
   "cell_type": "markdown",
   "id": "48456d88-5159-4ab5-bc5d-3127c0e2e2eb",
   "metadata": {},
   "source": [
    "# from the last two charts we find that the people in hight shool and partial high school \n",
    "# they may have pronze card"
   ]
  },
  {
   "cell_type": "code",
   "execution_count": null,
   "id": "9be271df-ffdd-4e76-acde-15f22b364719",
   "metadata": {},
   "outputs": [],
   "source": []
  },
  {
   "cell_type": "markdown",
   "id": "29cec554-5912-4dd3-a456-f7843d325c06",
   "metadata": {},
   "source": [
    "# show the number of each type of gender in show that in pie chart"
   ]
  },
  {
   "cell_type": "code",
   "execution_count": 59,
   "id": "875e53c8-8e53-4e09-b7b5-039f497c216d",
   "metadata": {},
   "outputs": [
    {
     "data": {
      "text/plain": [
       "F    30942\n",
       "M    29486\n",
       "Name: gender, dtype: int64"
      ]
     },
     "execution_count": 59,
     "metadata": {},
     "output_type": "execute_result"
    }
   ],
   "source": [
    "data['gender'].value_counts()"
   ]
  },
  {
   "cell_type": "code",
   "execution_count": 57,
   "id": "d2e5de3e-b77b-4c4c-a169-514aac872a2a",
   "metadata": {},
   "outputs": [
    {
     "data": {
      "image/png": "[encoded data removed]",
      "text/plain": [
       "<Figure size 576x396 with 1 Axes>"
      ]
     },
     "metadata": {},
     "output_type": "display_data"
    }
   ],
   "source": [
    "labels= ['male', 'female']\n",
    "plt.pie(data['gender'].value_counts() ,labels = labels , shadow= True ,autopct=\"%1.2f%%\",wedgeprops = {'edgecolor': 'black'})\n",
    "plt.title('counts of male and female ')\n",
    "plt.show()"
   ]
  },
  {
   "cell_type": "markdown",
   "id": "60a2c0d4-1f6b-41a3-aac6-e120a1db8176",
   "metadata": {},
   "source": [
    "# make a group by each gender and member card to get its number "
   ]
  },
  {
   "cell_type": "code",
   "execution_count": 58,
   "id": "9c3214b4-2dfc-443e-8b15-9576a184cee9",
   "metadata": {},
   "outputs": [
    {
     "data": {
      "text/plain": [
       "gender  member_card\n",
       "F       Bronze         17781\n",
       "        Normal          7061\n",
       "        Golden          3699\n",
       "        Silver          2401\n",
       "M       Bronze         16026\n",
       "        Normal          6806\n",
       "        Golden          3857\n",
       "        Silver          2797\n",
       "Name: member_card, dtype: int64"
      ]
     },
     "execution_count": 58,
     "metadata": {},
     "output_type": "execute_result"
    }
   ],
   "source": [
    "card = data.groupby('gender')['member_card'].value_counts()\n",
    "card"
   ]
  },
  {
   "cell_type": "code",
   "execution_count": null,
   "id": "d556b6cf-4476-4915-b5f0-a7d06a9196e2",
   "metadata": {},
   "outputs": [],
   "source": []
  },
  {
   "cell_type": "markdown",
   "id": "dc028dfc-fc62-4dda-b46a-21e338c5a58a",
   "metadata": {},
   "source": [
    "# show the store_type and each frequancy"
   ]
  },
  {
   "cell_type": "code",
   "execution_count": 82,
   "id": "b75add1f-525e-488e-9bf9-69514a87caf2",
   "metadata": {},
   "outputs": [
    {
     "data": {
      "image/png": "[encoded data removed]",
      "text/plain": [
       "<Figure size 576x396 with 1 Axes>"
      ]
     },
     "metadata": {},
     "output_type": "display_data"
    }
   ],
   "source": [
    "\n",
    "plt.hist(data['store_type'] , edgecolor='red' , color ='black')\n",
    "\n",
    "plt.title('view about the frquancy of store_type ')\n",
    "\n",
    "plt.xlabel('type of store')\n",
    "plt.ylabel('Frequency of each type')\n",
    "plt.show()"
   ]
  },
  {
   "cell_type": "markdown",
   "id": "6871265b-75d7-4a41-8761-0483a2b712ee",
   "metadata": {},
   "source": [
    "# show that for each country its store_types and there total number"
   ]
  },
  {
   "cell_type": "code",
   "execution_count": 89,
   "id": "97e5f4e5-be40-4751-81f0-135010707eff",
   "metadata": {},
   "outputs": [
    {
     "data": {
      "text/plain": [
       "sales_country  store_type         \n",
       "Canada         Deluxe Supermarket      3384\n",
       "               Mid-Size Grocery         580\n",
       "Mexico         Deluxe Supermarket      8388\n",
       "               Supermarket             4127\n",
       "               Gourmet Supermarket     2352\n",
       "               Mid-Size Grocery        2266\n",
       "               Small Grocery            439\n",
       "USA            Supermarket            22065\n",
       "               Deluxe Supermarket     11182\n",
       "               Gourmet Supermarket     4151\n",
       "               Small Grocery           1494\n",
       "Name: store_type, dtype: int64"
      ]
     },
     "execution_count": 89,
     "metadata": {},
     "output_type": "execute_result"
    }
   ],
   "source": [
    "s= data.groupby('sales_country')['store_type'].value_counts()\n",
    "s"
   ]
  },
  {
   "cell_type": "markdown",
   "id": "9ef86c6c-b9c9-47f1-8e3b-9234b16ba73b",
   "metadata": {},
   "source": [
    "# show the frequancy of each brand name"
   ]
  },
  {
   "cell_type": "code",
   "execution_count": 103,
   "id": "9304db99-fdb1-4a57-896a-1a16920b9e9d",
   "metadata": {},
   "outputs": [
    {
     "data": {
      "image/png": "[encoded data removed]",
      "text/plain": [
       "<Figure size 576x396 with 1 Axes>"
      ]
     },
     "metadata": {},
     "output_type": "display_data"
    }
   ],
   "source": [
    "plt.hist(data['brand_name'] ,edgecolor='red', color ='#032942')\n",
    "\n",
    "plt.title('view about the frquancy of each brand_name ')\n",
    "\n",
    "plt.xlabel('each _brand')\n",
    "plt.ylabel('Frequency of each type')\n",
    "plt.show()"
   ]
  },
  {
   "cell_type": "code",
   "execution_count": null,
   "id": "4dc04f24-3c9e-4ea4-ac3e-bbce75f14f4c",
   "metadata": {},
   "outputs": [],
   "source": [
    "# "
   ]
  },
  {
   "cell_type": "code",
   "execution_count": 114,
   "id": "150dc824-6231-442d-967f-257ced2bddc2",
   "metadata": {},
   "outputs": [
    {
     "data": {
      "text/plain": [
       "26755    22.92\n",
       "32648    19.90\n",
       "58614    19.90\n",
       "42575    19.90\n",
       "42493    19.90\n",
       "         ...  \n",
       "55801     0.52\n",
       "16846     0.52\n",
       "16763     0.52\n",
       "52247     0.51\n",
       "7451      0.51\n",
       "Name: store_sales(in millions), Length: 60428, dtype: float64"
      ]
     },
     "execution_count": 114,
     "metadata": {},
     "output_type": "execute_result"
    }
   ],
   "source": [
    "df=pd.DataFrame(data) \n",
    "dt= df.sort_values('store_sales(in millions)', ascending=False)\n",
    "dt['store_sales(in millions)']"
   ]
  },
  {
   "cell_type": "code",
   "execution_count": 115,
   "id": "817ef1b5-8e96-4e27-baf8-40d6ba3e550c",
   "metadata": {},
   "outputs": [
    {
     "data": {
      "text/plain": [
       "0        7.36\n",
       "1        5.52\n",
       "2        3.68\n",
       "3        3.68\n",
       "4        4.08\n",
       "         ... \n",
       "60423    2.76\n",
       "60424    1.60\n",
       "60425    5.52\n",
       "60426    8.28\n",
       "60427    9.20\n",
       "Name: store_sales(in millions), Length: 60428, dtype: float64"
      ]
     },
     "execution_count": 115,
     "metadata": {},
     "output_type": "execute_result"
    }
   ],
   "source": [
    "data['store_sales(in millions)']"
   ]
  },
  {
   "cell_type": "code",
   "execution_count": null,
   "id": "aca19c53-6dc2-44e3-b830-37f155d88133",
   "metadata": {},
   "outputs": [],
   "source": []
  },
  {
   "cell_type": "code",
   "execution_count": 117,
   "id": "462224be-9ad8-44c1-9cbe-2fcc6e0c3079",
   "metadata": {},
   "outputs": [
    {
     "data": {
      "image/png": "[encoded data removed]",
      "text/plain": [
       "<Figure size 576x396 with 1 Axes>"
      ]
     },
     "metadata": {},
     "output_type": "display_data"
    }
   ],
   "source": [
    "\n",
    "ypoints = np.array(data['store_sales(in millions)'])\n",
    "\n",
    "plt.plot(ypoints, color = '#05347a')\n",
    "plt.show()"
   ]
  },
  {
   "cell_type": "code",
   "execution_count": null,
   "id": "4e29bc7d-36aa-49d5-a89d-7197c37d466f",
   "metadata": {},
   "outputs": [],
   "source": []
  },
  {
   "cell_type": "code",
   "execution_count": null,
   "id": "d471cc45-b0b4-4106-b591-91505b0eacc1",
   "metadata": {},
   "outputs": [],
   "source": []
  },
  {
   "cell_type": "code",
   "execution_count": null,
   "id": "ec0744e0-04f5-4ffc-8f29-91ae8d1d2fb6",
   "metadata": {},
   "outputs": [],
   "source": []
  },
  {
   "cell_type": "code",
   "execution_count": null,
   "id": "9d88cdb0-2b25-4ccb-b783-56a766b4d474",
   "metadata": {},
   "outputs": [],
   "source": []
  },
  {
   "cell_type": "code",
   "execution_count": null,
   "id": "549398c3-cdd8-42f9-bc8b-6639835517cf",
   "metadata": {},
   "outputs": [],
   "source": []
  },
  {
   "cell_type": "code",
   "execution_count": null,
   "id": "edabd68d-bbbe-4aa0-9d8a-2c60fd5e0490",
   "metadata": {},
   "outputs": [],
   "source": []
  },
  {
   "cell_type": "code",
   "execution_count": null,
   "id": "b2f25a3e-4fb2-4b15-bec8-1634a5b9bc77",
   "metadata": {},
   "outputs": [],
   "source": []
  },
  {
   "cell_type": "code",
   "execution_count": null,
   "id": "fafc6a67-101f-4a3c-835b-d121cee54000",
   "metadata": {},
   "outputs": [],
   "source": []
  },
  {
   "cell_type": "code",
   "execution_count": null,
   "id": "41e3de52-663b-4b16-898e-a9ceebb3f84d",
   "metadata": {},
   "outputs": [],
   "source": []
  },
  {
   "cell_type": "code",
   "execution_count": null,
   "id": "5df66013-961a-452e-90a2-bc048376b651",
   "metadata": {},
   "outputs": [],
   "source": []
  },
  {
   "cell_type": "code",
   "execution_count": null,
   "id": "5d5c1f77-c54d-4a49-b18c-50b352fa5186",
   "metadata": {},
   "outputs": [],
   "source": []
  },
  {
   "cell_type": "code",
   "execution_count": null,
   "id": "6226ff5d-dfd4-4e53-a713-315d94a53c59",
   "metadata": {},
   "outputs": [],
   "source": []
  },
  {
   "cell_type": "code",
   "execution_count": null,
   "id": "fa119c37-124f-4e40-a4b0-266669dc1201",
   "metadata": {},
   "outputs": [],
   "source": []
  }
 ],
 "metadata": {
  "kernelspec": {
   "display_name": "Python 3 (ipykernel)",
   "language": "python",
   "name": "python3"
  },
  "language_info": {
   "codemirror_mode": {
    "name": "ipython",
    "version": 3
   },
   "file_extension": ".py",
   "mimetype": "text/x-python",
   "name": "python",
   "nbconvert_exporter": "python",
   "pygments_lexer": "ipython3",
   "version": "3.9.12"
  }
 },
 "nbformat": 4,
 "nbformat_minor": 5
}
